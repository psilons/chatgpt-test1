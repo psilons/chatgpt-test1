{
 "cells": [
  {
   "cell_type": "code",
   "execution_count": 13,
   "outputs": [],
   "source": [
    "from langchain.embeddings.openai import OpenAIEmbeddings\n",
    "from langchain.vectorstores import Chroma\n",
    "from langchain.text_splitter import CharacterTextSplitter\n",
    "from langchain.text_splitter import RecursiveCharacterTextSplitter\n",
    "from langchain import OpenAI, VectorDBQA\n",
    "from langchain.chains import RetrievalQA\n",
    "from langchain.document_loaders import DirectoryLoader\n",
    "import magic\n",
    "import os\n",
    "import nltk"
   ],
   "metadata": {
    "collapsed": false
   }
  },
  {
   "cell_type": "code",
   "execution_count": 14,
   "outputs": [
    {
     "name": "stderr",
     "output_type": "stream",
     "text": [
      "[nltk_data] Downloading package averaged_perceptron_tagger to\n",
      "[nltk_data]     /home/pluto/nltk_data...\n",
      "[nltk_data]   Package averaged_perceptron_tagger is already up-to-\n",
      "[nltk_data]       date!\n"
     ]
    }
   ],
   "source": [
    "nltk.download('averaged_perceptron_tagger')\n",
    "os.environ[\"OPENAI_API_KEY\"] = \"\"\n",
    "loader = DirectoryLoader('../data', glob='**/video*.txt')\n",
    "docs = loader.load()"
   ],
   "metadata": {
    "collapsed": false
   }
  },
  {
   "cell_type": "code",
   "execution_count": 15,
   "outputs": [
    {
     "name": "stderr",
     "output_type": "stream",
     "text": [
      "Using embedded DuckDB without persistence: data will be transient\n"
     ]
    }
   ],
   "source": [
    "char_text_splitter = RecursiveCharacterTextSplitter(chunk_size=1000, chunk_overlap=0)\n",
    "doc_texts = char_text_splitter.split_documents(docs)\n",
    "openAI_embeddings = OpenAIEmbeddings(openai_api_key=os.environ['OPENAI_API_KEY'])\n",
    "vStore = Chroma.from_documents(doc_texts, openAI_embeddings)"
   ],
   "metadata": {
    "collapsed": false
   }
  },
  {
   "cell_type": "code",
   "execution_count": 16,
   "outputs": [
    {
     "data": {
      "text/plain": "'\\nThe price for the Zotac Gaming GeForce RTX 4070 Amp Airo varies from $669 to $699 depending on the retailer. It also comes with a slight factory overclock and features attractive RGB lighting and a 2.5-slot form factor, which help it run cooler, quieter, faster, and flashier than the Founders Edition model. Nvidia’s RTX 4070 GPU delivers highly efficient, ultra-fast 1440p gaming and best-in-class ray tracing performance, bolstered by DLSS 3 Frame Generation and GeForce’s arsenal of fantastic software features (like RTX Video Super Resolution and Nvidia Reflex). It is equipped with 12GB of fast GDDR6X memory and a narrow 192-bit memory bus, making it an excellent choice for 1440p gaming but not ideal for 4K resolution.'"
     },
     "execution_count": 16,
     "metadata": {},
     "output_type": "execute_result"
    }
   ],
   "source": [
    "model = VectorDBQA.from_chain_type(llm=OpenAI(), chain_type='refine', vectorstore=vStore)\n",
    "question = \"What's the price for 4070?\"\n",
    "model.run(question)\n"
   ],
   "metadata": {
    "collapsed": false
   }
  },
  {
   "cell_type": "code",
   "execution_count": null,
   "outputs": [],
   "source": [],
   "metadata": {
    "collapsed": false
   }
  }
 ],
 "metadata": {
  "kernelspec": {
   "display_name": "Python 3",
   "language": "python",
   "name": "python3"
  },
  "language_info": {
   "codemirror_mode": {
    "name": "ipython",
    "version": 2
   },
   "file_extension": ".py",
   "mimetype": "text/x-python",
   "name": "python",
   "nbconvert_exporter": "python",
   "pygments_lexer": "ipython2",
   "version": "2.7.6"
  }
 },
 "nbformat": 4,
 "nbformat_minor": 0
}
